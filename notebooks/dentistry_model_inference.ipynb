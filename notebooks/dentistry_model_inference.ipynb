{
 "cells": [
  {
   "cell_type": "markdown",
   "metadata": {},
   "source": [
    "# import packages"
   ]
  },
  {
   "cell_type": "code",
   "execution_count": 1,
   "metadata": {},
   "outputs": [],
   "source": [
    "from ultralytics import YOLO\n",
    "import numpy as np\n",
    "import cv2\n",
    "import matplotlib.pyplot as plt\n",
    "import json"
   ]
  },
  {
   "cell_type": "markdown",
   "metadata": {},
   "source": [
    "# function:  plot from yolo_result\n"
   ]
  },
  {
   "cell_type": "code",
   "execution_count": 2,
   "metadata": {},
   "outputs": [],
   "source": [
    "\n",
    "def plot_yolo_results(results: 'ultralytics.YOLOResult', image: np.ndarray, plot_setting: dict) -> None:\n",
    "    \"\"\"\n",
    "    Plots the YOLO detection results on an input image with customizable settings.\n",
    "\n",
    "    Args:\n",
    "        result (dict): The detection results from the YOLO model, typically containing bounding boxes, class labels, and confidence scores.\n",
    "        image (np.ndarray): The input image in OpenCV format (a NumPy array) on which the results will be plotted.\n",
    "        plot_setting (dict): A dictionary containing plot settings such as colors, line thickness, and display options.\n",
    "\n",
    "    Returns:\n",
    "        None: The function displays the image with detected objects overlaid according to the specified plot settings. No value is returned.\n",
    "\n",
    "    Notes:\n",
    "        Ensure that the `result` dictionary is correctly formatted and matches the output of the YOLO model. Verify that `plot_setting` includes valid configuration parameters for visualization.\n",
    "    \"\"\"\n",
    "    # 定義文本參數\n",
    "    plot_image=image.copy()\n",
    "\n",
    "    font_face = plot_setting['font_face']  # Font type\n",
    "    font_scale = plot_setting['font_scale']  # Font size\n",
    "    thickness = plot_setting['thickness']  # Text thickness\n",
    "    line_type = plot_setting['line_type']  # Line type\n",
    "    color_dict= plot_setting['color_dict']\n",
    "\n",
    "\n",
    "\n",
    "    # 處理結果\n",
    "    for result in results:\n",
    "        # 獲取類別名稱\n",
    "        class_names = result.names\n",
    "        class_name_list=[]        \n",
    "        boxes = result.boxes  # Boxes object for bbox outputs\n",
    "        masks = result.masks  # Masks object for segmentation masks outputs\n",
    "        \n",
    "        if masks is not None:\n",
    "            for mask, box in zip(masks.data, boxes):\n",
    "                # Get class ID and confidence\n",
    "                class_id = int(box.cls)\n",
    "                #confidence = float(box.conf)\n",
    "                \n",
    "                # Get class name\n",
    "                class_name = class_names[class_id]\n",
    "\n",
    "                # Convert mask to numpy array and resize to match original image\n",
    "                mask_np = mask.cpu().numpy()\n",
    "                mask_np = cv2.resize(mask_np, (image.shape[1], image.shape[0]))\n",
    "                \n",
    "                # Convert mask to binary image\n",
    "                mask_binary = (mask_np > 0.5).astype(np.uint8) * 255\n",
    "                \n",
    "                # Check if the mask is valid\n",
    "                if np.sum(mask_binary) == 0:\n",
    "                    continue\n",
    "                \n",
    "                # Apply mask to the original image\n",
    "                mask_colored = np.zeros((mask_binary.shape[0], mask_binary.shape[1], 3), dtype=np.uint8)\n",
    "\n",
    "                if class_name != 'Background':# background label is no needing\n",
    "                    mask_colored[mask_binary == 255] = color_dict[str(class_id)]\n",
    "                    \n",
    "                    # Overlay the colored mask\n",
    "                    plot_image = cv2.addWeighted(plot_image, 1, mask_colored, 0.8, 0)\n",
    "                    \n",
    "                    # Calculate the average color of the masked area\n",
    "                    map_color = (plot_image[mask_binary == 255].sum(axis=0) / plot_image[mask_binary == 255].shape[0]).astype(np.uint8).tolist()\n",
    "                    \n",
    "                    # Add class name to the list if not already present\n",
    "                    if class_name not in class_name_list:\n",
    "                        class_name_list.append(class_name)\n",
    "                        \n",
    "                        # Draw class name on the image\n",
    "                        text_position = (mask_binary.shape[0] // 20, mask_binary.shape[1] // 10 * (len(class_name_list)))\n",
    "                        cv2.putText(plot_image, class_name, text_position, font_face, font_scale, map_color, thickness, line_type)\n",
    "            plt.imshow(plot_image)\n",
    "            plt.show()"
   ]
  },
  {
   "cell_type": "code",
   "execution_count": 3,
   "metadata": {},
   "outputs": [
    {
     "name": "stdout",
     "output_type": "stream",
     "text": [
      "\n",
      "0: 480x640 1 Alveolar_bone, 1 Caries, 1 Dentin, 1 Enamel, 1 Pulp, 1 Restoration, 1 Background, 20.0ms\n",
      "Speed: 0.0ms preprocess, 20.0ms inference, 0.0ms postprocess per image at shape (1, 3, 480, 640)\n"
     ]
    },
    {
     "ename": "AttributeError",
     "evalue": "'list' object has no attribute 'names'",
     "output_type": "error",
     "traceback": [
      "\u001b[1;31m---------------------------------------------------------------------------\u001b[0m",
      "\u001b[1;31mAttributeError\u001b[0m                            Traceback (most recent call last)",
      "Cell \u001b[1;32mIn[3], line 19\u001b[0m\n\u001b[0;32m     10\u001b[0m     color_dict \u001b[38;5;241m=\u001b[39m json\u001b[38;5;241m.\u001b[39mload(file)\n\u001b[0;32m     11\u001b[0m plot_setting\u001b[38;5;241m=\u001b[39m{\n\u001b[0;32m     12\u001b[0m     \u001b[38;5;124m'\u001b[39m\u001b[38;5;124mcolor_dict\u001b[39m\u001b[38;5;124m'\u001b[39m:color_dict,\n\u001b[0;32m     13\u001b[0m     \u001b[38;5;124m'\u001b[39m\u001b[38;5;124mfont_face\u001b[39m\u001b[38;5;124m'\u001b[39m:cv2\u001b[38;5;241m.\u001b[39mFONT_HERSHEY_SIMPLEX,\n\u001b[1;32m   (...)\u001b[0m\n\u001b[0;32m     16\u001b[0m     \u001b[38;5;124m'\u001b[39m\u001b[38;5;124mline_type\u001b[39m\u001b[38;5;124m'\u001b[39m:cv2\u001b[38;5;241m.\u001b[39mLINE_AA,\n\u001b[0;32m     17\u001b[0m }\n\u001b[1;32m---> 19\u001b[0m \u001b[43mplot_yolo_results\u001b[49m\u001b[43m(\u001b[49m\u001b[43mresults\u001b[49m\u001b[43m,\u001b[49m\u001b[43m \u001b[49m\u001b[43mimage\u001b[49m\u001b[43m,\u001b[49m\u001b[43m \u001b[49m\u001b[43mplot_setting\u001b[49m\u001b[43m)\u001b[49m\n",
      "Cell \u001b[1;32mIn[2], line 30\u001b[0m, in \u001b[0;36mplot_yolo_results\u001b[1;34m(results, image, plot_setting)\u001b[0m\n\u001b[0;32m     27\u001b[0m \u001b[38;5;66;03m# 處理結果\u001b[39;00m\n\u001b[0;32m     28\u001b[0m \u001b[38;5;28;01mfor\u001b[39;00m result \u001b[38;5;129;01min\u001b[39;00m results:\n\u001b[0;32m     29\u001b[0m     \u001b[38;5;66;03m# 獲取類別名稱\u001b[39;00m\n\u001b[1;32m---> 30\u001b[0m     class_names \u001b[38;5;241m=\u001b[39m \u001b[43mresults\u001b[49m\u001b[38;5;241;43m.\u001b[39;49m\u001b[43mnames\u001b[49m\n\u001b[0;32m     31\u001b[0m     class_name_list\u001b[38;5;241m=\u001b[39m[]        \n\u001b[0;32m     32\u001b[0m     boxes \u001b[38;5;241m=\u001b[39m result\u001b[38;5;241m.\u001b[39mboxes  \u001b[38;5;66;03m# Boxes object for bbox outputs\u001b[39;00m\n",
      "\u001b[1;31mAttributeError\u001b[0m: 'list' object has no attribute 'names'"
     ]
    }
   ],
   "source": [
    "image_path='../data/pics/caries-0.6741573-260-760_1_2022052768.png'\n",
    "image = cv2.imread(image_path)\n",
    "image = cv2.cvtColor(image, cv2.COLOR_BGR2RGB)\n",
    "model = YOLO('../dentistry_yolov8n_20240807_all.pt')\n",
    "\n",
    "results=model(image,iou=0)\n",
    "result=results[0]\n",
    "\n",
    "with open('../conf/mask_color_setting.json', 'r') as file:\n",
    "    color_dict = json.load(file)\n",
    "plot_setting={\n",
    "    'color_dict':color_dict,\n",
    "    'font_face':cv2.FONT_HERSHEY_SIMPLEX,\n",
    "    'font_scale':1,\n",
    "    'thickness':3,\n",
    "    'line_type':cv2.LINE_AA,\n",
    "}\n",
    "\n",
    "plot_yolo_results(results, image, plot_setting)"
   ]
  }
 ],
 "metadata": {
  "kernelspec": {
   "display_name": "test_20240801_python39",
   "language": "python",
   "name": "python3"
  },
  "language_info": {
   "codemirror_mode": {
    "name": "ipython",
    "version": 3
   },
   "file_extension": ".py",
   "mimetype": "text/x-python",
   "name": "python",
   "nbconvert_exporter": "python",
   "pygments_lexer": "ipython3",
   "version": "3.9.19"
  }
 },
 "nbformat": 4,
 "nbformat_minor": 2
}
